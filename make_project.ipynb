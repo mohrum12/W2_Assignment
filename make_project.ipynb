{
 "cells": [
  {
   "cell_type": "code",
   "execution_count": 1,
   "id": "fc45efd4-16ad-4f18-87c3-639a656f4b09",
   "metadata": {},
   "outputs": [
    {
     "name": "stdout",
     "output_type": "stream",
     "text": [
      "Created: /Users/mooninaries/Desktop/venv/ds-zip-notebook.zip\n"
     ]
    }
   ],
   "source": [
    "from pathlib import Path\n",
    "import zipfile\n",
    "\n",
    "# 1) Choose a project folder name\n",
    "project = Path(\"ds-zip-notebook\")\n",
    "\n",
    "# 2) Create folders\n",
    "for p in [project, project/\"notebooks\", project/\"src\", project/\"data\"]:\n",
    "    p.mkdir(parents=True, exist_ok=True)\n",
    "\n",
    "# 3) Write a README\n",
    "(project/\"README.md\").write_text(\n",
    "    \"# Data Structures Mini-Notebook\\n\\n\"\n",
    "    \"This project contains a small Jupyter notebook exploring Python's `zip()`.\\n\",\n",
    "    encoding=\"utf-8\"\n",
    ")\n",
    "\n",
    "# 4) Write requirements (optional)\n",
    "(project/\"requirements.txt\").write_text(\n",
    "    \"jupyterlab>=4.0,<5.0\\nnotebook>=7.0,<8.0\\n\",\n",
    "    encoding=\"utf-8\"\n",
    ")\n",
    "\n",
    "# 5) Optional placeholders (so empty dirs appear in the zip)\n",
    "for d in [\"notebooks\", \"src\", \"data\"]:\n",
    "    (project/d/\".keep\").touch()\n",
    "\n",
    "# 6) Create a zip of the whole project\n",
    "zip_path = project.with_suffix(\".zip\")\n",
    "with zipfile.ZipFile(zip_path, \"w\", zipfile.ZIP_DEFLATED) as z:\n",
    "    for path in project.rglob(\"*\"):\n",
    "        z.write(path, arcname=project.name + \"/\" + path.relative_to(project).as_posix())\n",
    "\n",
    "print(f\"Created: {zip_path.resolve()}\")\n"
   ]
  },
  {
   "cell_type": "code",
   "execution_count": null,
   "id": "9b18e113-7308-4f1d-861c-57af47c2162f",
   "metadata": {},
   "outputs": [],
   "source": []
  }
 ],
 "metadata": {
  "kernelspec": {
   "display_name": "Python 3 (ipykernel)",
   "language": "python",
   "name": "python3"
  },
  "language_info": {
   "codemirror_mode": {
    "name": "ipython",
    "version": 3
   },
   "file_extension": ".py",
   "mimetype": "text/x-python",
   "name": "python",
   "nbconvert_exporter": "python",
   "pygments_lexer": "ipython3",
   "version": "3.13.7"
  }
 },
 "nbformat": 4,
 "nbformat_minor": 5
}
